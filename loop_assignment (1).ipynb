{
 "cells": [
  {
   "cell_type": "code",
   "execution_count": 6,
   "id": "307c9b26-47db-474d-aee1-e96bb71adec4",
   "metadata": {},
   "outputs": [
    {
     "name": "stdout",
     "output_type": "stream",
     "text": [
      "1\n",
      "2\n",
      "3\n",
      "4\n",
      "5\n",
      "6\n",
      "7\n",
      "8\n",
      "9\n",
      "10\n"
     ]
    }
   ],
   "source": [
    "# Qno 1\n",
    "for num in range(10):\n",
    "    print(num+1)"
   ]
  },
  {
   "cell_type": "code",
   "execution_count": 10,
   "id": "4cb52eb6-6843-4737-86f2-3d034c31cf07",
   "metadata": {},
   "outputs": [
    {
     "name": "stdout",
     "output_type": "stream",
     "text": [
      "20\n",
      "19\n",
      "18\n",
      "17\n",
      "16\n",
      "15\n",
      "14\n",
      "13\n",
      "12\n",
      "11\n",
      "10\n",
      "9\n",
      "8\n",
      "7\n",
      "6\n",
      "5\n",
      "4\n",
      "3\n",
      "2\n",
      "1\n"
     ]
    }
   ],
   "source": [
    "# Qno 2\n",
    "num = 20\n",
    "while num > 0:\n",
    "    print(num)\n",
    "    num -= 1 "
   ]
  },
  {
   "cell_type": "code",
   "execution_count": 18,
   "id": "03de5c26-0421-4d01-94e9-4f5ba0b05230",
   "metadata": {},
   "outputs": [
    {
     "name": "stdout",
     "output_type": "stream",
     "text": [
      "2\n",
      "4\n",
      "6\n",
      "8\n",
      "10\n"
     ]
    }
   ],
   "source": [
    "# Qno 3\n",
    "for num in range(10):\n",
    "    if (num+1) % 2 == 0:\n",
    "        print(num+1)"
   ]
  },
  {
   "cell_type": "code",
   "execution_count": 30,
   "id": "86fe34e5-366c-4a06-9bdd-63c5d9e2bf5d",
   "metadata": {},
   "outputs": [
    {
     "name": "stdin",
     "output_type": "stream",
     "text": [
      "Enter a number 5\n"
     ]
    },
    {
     "name": "stdout",
     "output_type": "stream",
     "text": [
      "1\n",
      "2\n",
      "3\n",
      "4\n",
      "5\n"
     ]
    }
   ],
   "source": [
    "# Qno 4\n",
    "number = int(input(\"Enter a number\"))\n",
    "for num in range(number):\n",
    "    print(num+1)\n"
   ]
  },
  {
   "cell_type": "code",
   "execution_count": 36,
   "id": "3f24e65e-efd9-40a6-a831-ff6f2a0040a1",
   "metadata": {},
   "outputs": [
    {
     "name": "stdin",
     "output_type": "stream",
     "text": [
      "Enter a number 15\n"
     ]
    },
    {
     "name": "stdout",
     "output_type": "stream",
     "text": [
      "1\n",
      "3\n",
      "5\n",
      "7\n",
      "9\n",
      "11\n",
      "13\n"
     ]
    }
   ],
   "source": [
    "# Qno 5\n",
    "number = int(input(\"Enter a number\"))\n",
    "for num in range(number):\n",
    "    if num % 2 != 0:\n",
    "        print(num)\n"
   ]
  },
  {
   "cell_type": "code",
   "execution_count": 38,
   "id": "f8eb38b4-9517-4b7a-8a3a-2d4d0782cac8",
   "metadata": {},
   "outputs": [
    {
     "name": "stdout",
     "output_type": "stream",
     "text": [
      "Happy Birthday!\n",
      "Happy Birthday!\n",
      "Happy Birthday!\n",
      "Happy Birthday!\n",
      "Happy Birthday!\n"
     ]
    }
   ],
   "source": [
    "# Qno 6\n",
    "for num in range(5):\n",
    "    print(\"Happy Birthday!\")"
   ]
  },
  {
   "cell_type": "code",
   "execution_count": 40,
   "id": "8784c49a-377f-461f-9efb-8a88ed482e14",
   "metadata": {},
   "outputs": [],
   "source": [
    "# Qno 7\n"
   ]
  },
  {
   "cell_type": "code",
   "execution_count": 58,
   "id": "dba9478f-0ec8-4540-964f-9fc88858a16b",
   "metadata": {},
   "outputs": [
    {
     "name": "stdin",
     "output_type": "stream",
     "text": [
      "Enter a multiplication table 3\n"
     ]
    },
    {
     "name": "stdout",
     "output_type": "stream",
     "text": [
      "3 * 1 = 3\n",
      "3 * 2 = 6\n",
      "3 * 3 = 9\n",
      "3 * 4 = 12\n",
      "3 * 5 = 15\n",
      "3 * 6 = 18\n",
      "3 * 7 = 21\n",
      "3 * 8 = 24\n",
      "3 * 9 = 27\n",
      "3 * 10 = 30\n"
     ]
    }
   ],
   "source": [
    "# Qno 8\n",
    "num = int(input(\"Enter a multiplication table\"))\n",
    "for i in range(10):\n",
    "    print(f\"{num} * {i+1} = {num*(i+1)}\")\n"
   ]
  },
  {
   "cell_type": "code",
   "execution_count": 62,
   "id": "d70506da-b0f4-49df-995a-dbebc3e16f71",
   "metadata": {},
   "outputs": [
    {
     "name": "stdout",
     "output_type": "stream",
     "text": [
      "3\n",
      "7\n",
      "11\n",
      "15\n",
      "19\n",
      "23\n",
      "27\n",
      "31\n"
     ]
    }
   ],
   "source": [
    "# Qno 9\n",
    "start = 3\n",
    "terms = 8\n",
    "\n",
    "for a in range(8):\n",
    "    print(start + a *4)\n"
   ]
  },
  {
   "cell_type": "code",
   "execution_count": 66,
   "id": "2e6af77e-d4bc-48e6-a831-83db8fbfb3ef",
   "metadata": {},
   "outputs": [
    {
     "name": "stdout",
     "output_type": "stream",
     "text": [
      "2\n",
      "3\n",
      "10\n",
      "29\n",
      "66\n",
      "127\n",
      "218\n",
      "345\n"
     ]
    }
   ],
   "source": [
    "# Qno 10\n",
    "start = 2\n",
    "terms = 6\n",
    "\n",
    "for a in range(8):\n",
    "    print(start + a **3)\n"
   ]
  },
  {
   "cell_type": "code",
   "execution_count": 70,
   "id": "913f9cd2-c97a-4923-b83f-61fcdd0a1c0c",
   "metadata": {},
   "outputs": [
    {
     "name": "stdin",
     "output_type": "stream",
     "text": [
      "Enter a number 10\n"
     ]
    },
    {
     "name": "stdout",
     "output_type": "stream",
     "text": [
      "55\n"
     ]
    }
   ],
   "source": [
    "# Qno 11\n",
    "sum = 0\n",
    "number = int(input(\"Enter a number\"))\n",
    "for num in range(number):\n",
    "    sum += (num + 1)\n",
    "\n",
    "print(sum)"
   ]
  },
  {
   "cell_type": "code",
   "execution_count": 72,
   "id": "ca56cf39-be7c-4676-a86f-2c2186219c94",
   "metadata": {},
   "outputs": [
    {
     "name": "stdin",
     "output_type": "stream",
     "text": [
      "Enter a positive integer:  5\n"
     ]
    },
    {
     "name": "stdout",
     "output_type": "stream",
     "text": [
      "The sum of reciprocals from 1 to 5 is: 2.28\n"
     ]
    }
   ],
   "source": [
    "# Qno 12\n",
    "n = int(input(\"Enter a positive integer: \"))\n",
    "if n <= 0:\n",
    "    print(\"Please enter a positive integer.\")\n",
    "else:\n",
    "    sum_of_reciprocals = 0\n",
    "    for i in range(1, n + 1):\n",
    "        sum_of_reciprocals += 1 / i\n",
    "    print(f\"The sum of reciprocals from 1 to {n} is: {sum_of_reciprocals:.2f}\")\n"
   ]
  },
  {
   "cell_type": "code",
   "execution_count": 86,
   "id": "7abedf03-26a8-48cc-8d8b-b9b8f393a5d7",
   "metadata": {},
   "outputs": [
    {
     "name": "stdin",
     "output_type": "stream",
     "text": [
      "Enter a positive integer:  2\n"
     ]
    },
    {
     "name": "stdout",
     "output_type": "stream",
     "text": [
      "2\n"
     ]
    }
   ],
   "source": [
    "# Qno 13\n",
    "number = int(input(\"Enter a positive integer: \"))\n",
    "if number < 0:\n",
    "    print(\"Factorial does not exist for negative numbers.\")\n",
    "elif number == 0:\n",
    "    print(\"The factorial of 0 is 1.\")\n",
    "else:\n",
    "    factorial = 1\n",
    "    for i in range(1, number + 1):\n",
    "        factorial *= i\n",
    "    print(factorial)"
   ]
  },
  {
   "cell_type": "code",
   "execution_count": 84,
   "id": "679cfc09-2d47-400c-bab9-2f8f136e9d7f",
   "metadata": {},
   "outputs": [
    {
     "name": "stdin",
     "output_type": "stream",
     "text": [
      "Enter the base number:  3\n",
      "Enter the exponent:  3\n"
     ]
    },
    {
     "name": "stdout",
     "output_type": "stream",
     "text": [
      "27.0\n"
     ]
    }
   ],
   "source": [
    "# Qno 14\n",
    "base = float(input(\"Enter the base number: \"))\n",
    "exponent = int(input(\"Enter the exponent: \"))\n",
    "\n",
    "result = 1\n",
    "\n",
    "if exponent > 0:\n",
    "    for _ in range(exponent):\n",
    "        result *= base\n",
    "\n",
    "elif exponent < 0:\n",
    "    for _ in range(abs(exponent)):\n",
    "        result *= base\n",
    "    result = 1 / result  \n",
    "    \n",
    "else:\n",
    "    result = 1\n",
    "\n",
    "print(result)\n"
   ]
  }
 ],
 "metadata": {
  "kernelspec": {
   "display_name": "Python 3 (ipykernel)",
   "language": "python",
   "name": "python3"
  },
  "language_info": {
   "codemirror_mode": {
    "name": "ipython",
    "version": 3
   },
   "file_extension": ".py",
   "mimetype": "text/x-python",
   "name": "python",
   "nbconvert_exporter": "python",
   "pygments_lexer": "ipython3",
   "version": "3.12.7"
  }
 },
 "nbformat": 4,
 "nbformat_minor": 5
}
