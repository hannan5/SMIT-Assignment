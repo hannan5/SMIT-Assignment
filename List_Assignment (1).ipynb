{
 "cells": [
  {
   "cell_type": "code",
   "execution_count": 51,
   "id": "f6f467eb-2e40-4add-bde6-566625c0d103",
   "metadata": {},
   "outputs": [
    {
     "name": "stdin",
     "output_type": "stream",
     "text": [
      "Enter the item in list 1,2,3,4\n"
     ]
    },
    {
     "name": "stdout",
     "output_type": "stream",
     "text": [
      "['1', '3']\n"
     ]
    }
   ],
   "source": [
    "# Qno 1\n",
    "test_list = input('Enter the item in list').split(\",\")\n",
    "alternate_list = test_list[::2]\n",
    "print(alternate_list)"
   ]
  },
  {
   "cell_type": "code",
   "execution_count": 52,
   "id": "3f12a552-ebba-4a30-890f-c6a32695ba85",
   "metadata": {},
   "outputs": [
    {
     "name": "stdin",
     "output_type": "stream",
     "text": [
      "Enter the list 1,2,3,4\n"
     ]
    },
    {
     "name": "stdout",
     "output_type": "stream",
     "text": [
      "['4', '3', '2', '1']\n"
     ]
    }
   ],
   "source": [
    "# Qno 2\n",
    "list1 = input(\"Enter the list\").split(\",\")\n",
    "length = len(list1)\n",
    "length\n",
    "print(list1[::-1])"
   ]
  },
  {
   "cell_type": "code",
   "execution_count": 53,
   "id": "bc3ec91b-4a47-4ce5-975b-2964a79250d0",
   "metadata": {},
   "outputs": [
    {
     "name": "stdin",
     "output_type": "stream",
     "text": [
      "Enter the list 10,25,5,15\n"
     ]
    },
    {
     "name": "stdout",
     "output_type": "stream",
     "text": [
      "5\n"
     ]
    }
   ],
   "source": [
    "# Qno 3\n",
    "list2 = input(\"Enter the list\").split(\",\")\n",
    "max_value = list2[0]\n",
    "for m in list2:\n",
    "    if max_value < m:\n",
    "        max_value = m;\n",
    "\n",
    "print(max_value)"
   ]
  },
  {
   "cell_type": "code",
   "execution_count": 54,
   "id": "218dfd86-50cf-4faf-9792-0d1b49e17548",
   "metadata": {},
   "outputs": [
    {
     "name": "stdin",
     "output_type": "stream",
     "text": [
      "Enter a text Hello hannan\n",
      "Enter words want to remove hello\n"
     ]
    },
    {
     "name": "stdout",
     "output_type": "stream",
     "text": [
      "Hello hannan\n"
     ]
    }
   ],
   "source": [
    "# Qno 5\n",
    "text = input(\"Enter a text\")\n",
    "remove_words = input(\"Enter words want to remove\")\n",
    "update_text = text.replace(remove_words,'')\n",
    "print(update_text)"
   ]
  },
  {
   "cell_type": "code",
   "execution_count": 55,
   "id": "45074b53-cdfe-499a-a67f-12d66678f1ad",
   "metadata": {},
   "outputs": [
    {
     "name": "stdin",
     "output_type": "stream",
     "text": [
      "Enter a Date in mm/dd/yyyy. format 2/10/2024\n"
     ]
    },
    {
     "name": "stdout",
     "output_type": "stream",
     "text": [
      "Feb 10 2024\n"
     ]
    }
   ],
   "source": [
    "# Qno 6\n",
    "list = ['Jan','Feb','March','Aprail','May']\n",
    "date = str(input('Enter a Date in mm/dd/yyyy. format')).split('/')\n",
    "change_format = list[int(date[0]) - 1]\n",
    "print(change_format, date[1], date[2])"
   ]
  },
  {
   "cell_type": "code",
   "execution_count": 56,
   "id": "eb780a82-72fc-47db-8db0-5bf0a9161dde",
   "metadata": {},
   "outputs": [
    {
     "name": "stdin",
     "output_type": "stream",
     "text": [
      "Enter a sentence abc zyz\n"
     ]
    },
    {
     "name": "stdout",
     "output_type": "stream",
     "text": [
      "Abc Zyz\n"
     ]
    }
   ],
   "source": [
    "# Qno 7\n",
    "input_sentence = input(\"Enter a sentence\")\n",
    "words = input_sentence.split()\n",
    "capitalized_words = []\n",
    "for word in words:\n",
    "    capitalized_words.append(word.capitalize())\n",
    "capitalized_sentence = ' '.join(capitalized_words)\n",
    "print(capitalized_sentence)"
   ]
  },
  {
   "cell_type": "code",
   "execution_count": 57,
   "id": "ffd2c373-d176-4ce9-b4ca-465ed134e5d5",
   "metadata": {},
   "outputs": [
    {
     "name": "stdout",
     "output_type": "stream",
     "text": [
      "32\n",
      "31\n",
      "63\n"
     ]
    }
   ],
   "source": [
    "# Qno 8\n",
    "\n",
    "matrix =[\n",
    "    [2, 11, 7, 12],\n",
    "    [5, 2, 9, 15],\n",
    "    [8, 3, 10, 42]\n",
    "]\n",
    "for a in matrix:\n",
    "    sum = 0\n",
    "    for num in a:\n",
    "        sum += num\n",
    "    print(sum)\n",
    "\n"
   ]
  },
  {
   "cell_type": "code",
   "execution_count": 58,
   "id": "d857d39a-b901-4e09-8547-3b001d9fdeea",
   "metadata": {},
   "outputs": [
    {
     "name": "stdout",
     "output_type": "stream",
     "text": [
      "\n",
      "Resultant Matrix after Addition:\n",
      "4 22 14\n",
      "10 4 18\n",
      "16 6 20\n"
     ]
    }
   ],
   "source": [
    "# Qno 9\n",
    "\n",
    "matrix1 =[\n",
    "    [2, 11, 7, 12],\n",
    "    [5, 2, 9, 15],\n",
    "    [8, 3, 10, 42]\n",
    "]\n",
    "matrix2 =[\n",
    "    [2, 11, 7, 12],\n",
    "    [5, 2, 9, 15],\n",
    "    [8, 3, 10, 42]\n",
    "]\n",
    "result_matrix = [[0 for _ in range(3)] for _ in range(3)]\n",
    "\n",
    "\n",
    "for i in range(3):\n",
    "    for j in range(3):\n",
    "        result_matrix[i][j] = matrix1[i][j] + matrix2[i][j]\n",
    "\n",
    "print(\"\\nResultant Matrix after Addition:\")\n",
    "for row in result_matrix:\n",
    "    print(\" \".join(map(str, row)))"
   ]
  },
  {
   "cell_type": "code",
   "execution_count": 59,
   "id": "c6de9a09-3c0c-4174-afa3-c83144d3a3c9",
   "metadata": {},
   "outputs": [
    {
     "name": "stdout",
     "output_type": "stream",
     "text": [
      "\n",
      "Resultant Matrix after Addition:\n",
      "4 121 49\n",
      "25 4 81\n",
      "64 9 100\n"
     ]
    }
   ],
   "source": [
    "# Qno 10\n",
    "matrix1 =[\n",
    "    [2, 11, 7, 12],\n",
    "    [5, 2, 9, 15],\n",
    "    [8, 3, 10, 42]\n",
    "]\n",
    "matrix2 =[\n",
    "    [2, 11, 7, 12],\n",
    "    [5, 2, 9, 15],\n",
    "    [8, 3, 10, 42]\n",
    "]\n",
    "result_matrix = [[0 for _ in range(3)] for _ in range(3)]\n",
    "\n",
    "\n",
    "for i in range(3):\n",
    "    for j in range(3):\n",
    "        result_matrix[i][j] = matrix1[i][j] * matrix2[i][j]\n",
    "\n",
    "print(\"\\nResultant Matrix after Addition:\")\n",
    "for row in result_matrix:\n",
    "    print(\" \".join(map(str, row)))"
   ]
  },
  {
   "cell_type": "code",
   "execution_count": null,
   "id": "dffd598e-d639-439d-9baa-dc49920380ce",
   "metadata": {},
   "outputs": [],
   "source": []
  }
 ],
 "metadata": {
  "kernelspec": {
   "display_name": "Python 3 (ipykernel)",
   "language": "python",
   "name": "python3"
  },
  "language_info": {
   "codemirror_mode": {
    "name": "ipython",
    "version": 3
   },
   "file_extension": ".py",
   "mimetype": "text/x-python",
   "name": "python",
   "nbconvert_exporter": "python",
   "pygments_lexer": "ipython3",
   "version": "3.12.7"
  }
 },
 "nbformat": 4,
 "nbformat_minor": 5
}
