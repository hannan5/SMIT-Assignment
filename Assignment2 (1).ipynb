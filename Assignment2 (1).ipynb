{
 "cells": [
  {
   "cell_type": "code",
   "execution_count": 11,
   "id": "7db20a5f-a01e-4cfd-98af-e325760d4f0f",
   "metadata": {},
   "outputs": [
    {
     "name": "stdin",
     "output_type": "stream",
     "text": [
      "Enter length: 15\n",
      "Enter width: 10\n"
     ]
    },
    {
     "name": "stdout",
     "output_type": "stream",
     "text": [
      "150\n"
     ]
    }
   ],
   "source": [
    "# Qno1\n",
    "length = int(input(\"Enter length:\"))\n",
    "width = int(input(\"Enter width:\"))\n",
    "area = length * width\n",
    "print(area)\n",
    "# print(1*5)"
   ]
  },
  {
   "cell_type": "code",
   "execution_count": 15,
   "id": "b25bfc59-aafa-4f34-8904-9383cef65067",
   "metadata": {},
   "outputs": [
    {
     "name": "stdin",
     "output_type": "stream",
     "text": [
      "Enter radius: 10\n"
     ]
    },
    {
     "name": "stdout",
     "output_type": "stream",
     "text": [
      "62.839999999999996\n"
     ]
    }
   ],
   "source": [
    "# Qno2\n",
    "radius = int(input(\"Enter radius:\"))\n",
    "Circumference = 2*(3.142)*radius;\n",
    "print(Circumference)"
   ]
  },
  {
   "cell_type": "code",
   "execution_count": 19,
   "id": "ac0e3e12-49d3-482e-832c-b036aa46ad39",
   "metadata": {},
   "outputs": [
    {
     "name": "stdin",
     "output_type": "stream",
     "text": [
      "Enter principle: 10\n",
      "Enter rate: 1\n",
      "Enter time: 5\n"
     ]
    },
    {
     "name": "stdout",
     "output_type": "stream",
     "text": [
      "50\n"
     ]
    }
   ],
   "source": [
    "# Qno 3\n",
    "principle = int(input(\"Enter principle:\"))\n",
    "rate = int(input(\"Enter rate:\"))\n",
    "time = int(input(\"Enter time:\"))\n",
    "simple_interst = principle * rate * time;\n",
    "print(simple_interst)"
   ]
  },
  {
   "cell_type": "code",
   "execution_count": 23,
   "id": "f28e7bbc-fee8-45ca-9eeb-dd4a4eb2de71",
   "metadata": {},
   "outputs": [
    {
     "name": "stdin",
     "output_type": "stream",
     "text": [
      "Enter distance: 120\n",
      "Enter time: 10\n"
     ]
    },
    {
     "name": "stdout",
     "output_type": "stream",
     "text": [
      "12.0\n"
     ]
    }
   ],
   "source": [
    "# Qno 4\n",
    "distance = int(input(\"Enter distance:\"))\n",
    "time = int(input(\"Enter time:\"))\n",
    "speed =  distance / time;\n",
    "print(speed)"
   ]
  },
  {
   "cell_type": "code",
   "execution_count": 1,
   "id": "323e0f47-cfb2-46a2-b30d-706d521ff9db",
   "metadata": {},
   "outputs": [
    {
     "name": "stdin",
     "output_type": "stream",
     "text": [
      "Enter weight in kg 10\n",
      "Enter height in meters 2\n"
     ]
    },
    {
     "name": "stdout",
     "output_type": "stream",
     "text": [
      "5.0\n"
     ]
    }
   ],
   "source": [
    "# Qno 5\n",
    "weight = int(input(\"Enter weight in kg\"))\n",
    "height = int(input(\"Enter height in meters\"))\n",
    "BMI =  weight / height;\n",
    "print(BMI)"
   ]
  },
  {
   "cell_type": "code",
   "execution_count": 5,
   "id": "c63e8164-c65c-4507-8dd1-bb102b66ddb1",
   "metadata": {},
   "outputs": [
    {
     "name": "stdin",
     "output_type": "stream",
     "text": [
      "Enter mass in kg 10\n",
      "Enter acceleration in meters/second² 12\n"
     ]
    },
    {
     "name": "stdout",
     "output_type": "stream",
     "text": [
      "120\n"
     ]
    }
   ],
   "source": [
    "# Qno 6\n",
    "mass = int(input(\"Enter mass in kg\"))\n",
    "acceleration = int(input(\"Enter acceleration in meters/second²\"))\n",
    "force =  mass * acceleration;\n",
    "print(force)"
   ]
  },
  {
   "cell_type": "code",
   "execution_count": 9,
   "id": "e4fdaaed-7652-4d24-b159-ba3fb567db4f",
   "metadata": {},
   "outputs": [
    {
     "name": "stdin",
     "output_type": "stream",
     "text": [
      "Enter principal amount 10\n",
      "Enter annual interest rate  15\n",
      "Enter  number of times interest 5\n",
      "Enter time in years 1\n"
     ]
    },
    {
     "name": "stdout",
     "output_type": "stream",
     "text": [
      "10240.0\n"
     ]
    }
   ],
   "source": [
    "# Qno 7\n",
    "p = float(input(\"Enter principal amount\"))\n",
    "r = float(input(\"Enter annual interest rate \"))\n",
    "n = int(input(\"Enter  number of times interest\"))\n",
    "t = float(input(\"Enter time in years\"))\n",
    "A = p * (1 + r / n) ** (n * t)\n",
    "print(A)"
   ]
  },
  {
   "cell_type": "code",
   "execution_count": 23,
   "id": "3aca25c1-75e5-4bdc-ab25-1debb6dbbc52",
   "metadata": {},
   "outputs": [
    {
     "name": "stdin",
     "output_type": "stream",
     "text": [
      "Enter the length of side a:  10\n",
      "Enter the length of side b:  10\n",
      "Enter the length of side c:  10\n"
     ]
    },
    {
     "name": "stdout",
     "output_type": "stream",
     "text": [
      "30.0\n"
     ]
    }
   ],
   "source": [
    "# Qno 8\n",
    "a = float(input(\"Enter the length of side a: \"))\n",
    "b = float(input(\"Enter the length of side b: \"))\n",
    "c = float(input(\"Enter the length of side c: \"))\n",
    "perimeter = a + b + c\n",
    "print(perimeter)"
   ]
  },
  {
   "cell_type": "code",
   "execution_count": 17,
   "id": "0b679a91-048e-41a3-a2af-e39d6650d289",
   "metadata": {},
   "outputs": [
    {
     "name": "stdin",
     "output_type": "stream",
     "text": [
      "Enter the radius of the sphere (r):  15\n"
     ]
    },
    {
     "name": "stdout",
     "output_type": "stream",
     "text": [
      "13562.999999999998\n"
     ]
    }
   ],
   "source": [
    "# Qno 9\n",
    "r = float(input(\"Enter the radius of the sphere (r): \"))\n",
    "volume = (4/3) * (3.014) * r**3\n",
    "print(volume)"
   ]
  },
  {
   "cell_type": "code",
   "execution_count": 21,
   "id": "90c6cf12-5042-4efe-901b-ff02a4f3cff4",
   "metadata": {},
   "outputs": [
    {
     "name": "stdin",
     "output_type": "stream",
     "text": [
      "Enter the mass of the object (m) in kilograms:  25\n",
      "Enter the velocity of the object (v) in meters/second:  12\n"
     ]
    },
    {
     "name": "stdout",
     "output_type": "stream",
     "text": [
      "1800.0\n"
     ]
    }
   ],
   "source": [
    "# Qno 10\n",
    "m = float(input(\"Enter the mass of the object (m) in kilograms: \"))\n",
    "v = float(input(\"Enter the velocity of the object (v) in meters/second: \"))\n",
    "kinetic_energy = 0.5 * m * v**2\n",
    "print(kinetic_energy)"
   ]
  },
  {
   "cell_type": "code",
   "execution_count": 31,
   "id": "d9ec4455-5478-4b38-b2dc-b323840e88d9",
   "metadata": {},
   "outputs": [
    {
     "name": "stdin",
     "output_type": "stream",
     "text": [
      "Enter the temperature in Celsius:  25\n"
     ]
    },
    {
     "name": "stdout",
     "output_type": "stream",
     "text": [
      "77.0\n"
     ]
    }
   ],
   "source": [
    "# Qno 12\n",
    "C = float(input(\"Enter the temperature in Celsius: \"))\n",
    "F = C * (9/5) + 32\n",
    "print(F)"
   ]
  },
  {
   "cell_type": "code",
   "execution_count": 5,
   "id": "8e147fdf-202a-422a-a0bb-59cc1fe4aad6",
   "metadata": {},
   "outputs": [
    {
     "name": "stdin",
     "output_type": "stream",
     "text": [
      "Enter the mass of the first object (m1) in kilograms:  12\n",
      "Enter the mass of the second object (m2) in kilograms:  45\n",
      "Enter the distance between the centers of the objects (r) in meters:  45\n"
     ]
    },
    {
     "name": "stdout",
     "output_type": "stream",
     "text": [
      "\n",
      "The gravitational force between the objects is: 1.78e-11 N\n"
     ]
    }
   ],
   "source": [
    "# Qno 13\n",
    "G = 6.674 * 10**-11\n",
    "m1 = float(input(\"Enter the mass of the first object (m1) in kilograms: \"))\n",
    "m2 = float(input(\"Enter the mass of the second object (m2) in kilograms: \"))\n",
    "r = float(input(\"Enter the distance between the centers of the objects (r) in meters: \"))\n",
    "F = G * (m1 * m2) / r**2\n",
    "print(F)"
   ]
  },
  {
   "cell_type": "code",
   "execution_count": 11,
   "id": "825fcc0e-f00e-4819-b68b-4e4d833ebc9a",
   "metadata": {},
   "outputs": [
    {
     "name": "stdin",
     "output_type": "stream",
     "text": [
      "Enter the radius of the cylinder (r):  45\n",
      "Enter the height of the cylinder (h):  45\n"
     ]
    },
    {
     "name": "stdout",
     "output_type": "stream",
     "text": [
      "286314.75\n"
     ]
    }
   ],
   "source": [
    "#Qno 14\n",
    "r = float(input(\"Enter the radius of the cylinder (r): \"))\n",
    "h = float(input(\"Enter the height of the cylinder (h): \"))\n",
    "volume = 3.142 * r**2 * h\n",
    "print(volume)"
   ]
  },
  {
   "cell_type": "code",
   "execution_count": 13,
   "id": "b563ad06-75a9-4c48-86a0-4ae9cad1ab44",
   "metadata": {},
   "outputs": [
    {
     "name": "stdin",
     "output_type": "stream",
     "text": [
      "Enter the force exerted (F) in Newtons:  15\n",
      "Enter the area of the surface (A) in square meters:  45\n"
     ]
    },
    {
     "name": "stdout",
     "output_type": "stream",
     "text": [
      "0.3333333333333333\n"
     ]
    }
   ],
   "source": [
    "#Qno 15\n",
    "F = float(input(\"Enter the force exerted (F) in Newtons: \"))\n",
    "A = float(input(\"Enter the area of the surface (A) in square meters: \"))\n",
    "P = F / A\n",
    "print(P)"
   ]
  },
  {
   "cell_type": "code",
   "execution_count": 19,
   "id": "2ebe1cf8-b549-4f0c-9b7f-f8b2a553d0fb",
   "metadata": {},
   "outputs": [
    {
     "name": "stdin",
     "output_type": "stream",
     "text": [
      "Enter the radius of the circle (r):  46\n"
     ]
    },
    {
     "name": "stdout",
     "output_type": "stream",
     "text": [
      "289.06399999999996\n"
     ]
    }
   ],
   "source": [
    "#Qno 17\n",
    "r = float(input(\"Enter the radius of the circle (r): \"))\n",
    "circumference = 2 * 3.142 * r\n",
    "print(circumference)"
   ]
  },
  {
   "cell_type": "code",
   "execution_count": 21,
   "id": "bd0aceb6-5ce4-40ec-83e0-8d5c80ae429d",
   "metadata": {},
   "outputs": [
    {
     "name": "stdin",
     "output_type": "stream",
     "text": [
      "Enter the present value (PV) in currency units:  45\n",
      "Enter the annual interest rate (r) as a decimal (e.g., 0.05 for 5%):  2\n",
      "Enter the time (t) in years:  12\n"
     ]
    },
    {
     "name": "stdout",
     "output_type": "stream",
     "text": [
      "23914845.0\n"
     ]
    }
   ],
   "source": [
    "# Qno 17\n",
    "PV = float(input(\"Enter the present value (PV) in currency units: \"))\n",
    "r = float(input(\"Enter the annual interest rate (r) as a decimal (e.g., 0.05 for 5%): \"))\n",
    "t = float(input(\"Enter the time (t) in years: \"))\n",
    "FV = PV * (1 + r)**t\n",
    "print(FV)"
   ]
  },
  {
   "cell_type": "code",
   "execution_count": 25,
   "id": "fd36ef9a-5a1e-4847-b870-6b5b8b1696b3",
   "metadata": {},
   "outputs": [
    {
     "name": "stdin",
     "output_type": "stream",
     "text": [
      "Enter the force applied (f) in Newtons:  45\n",
      "Enter the distance moved (d) in meters:  45\n",
      "Enter the angle (θ) between force and direction of movement in degrees:  45\n"
     ]
    },
    {
     "name": "stdout",
     "output_type": "stream",
     "text": [
      "1431.8912319027588\n"
     ]
    }
   ],
   "source": [
    "# Qno 19\n",
    "import math\n",
    "f = float(input(\"Enter the force applied (f) in Newtons: \"))\n",
    "d = float(input(\"Enter the distance moved (d) in meters: \"))\n",
    "theta = float(input(\"Enter the angle (θ) between force and direction of movement in degrees: \"))\n",
    "theta_radians = math.radians(theta)\n",
    "W = f * d * math.cos(theta_radians)\n",
    "print(W)"
   ]
  },
  {
   "cell_type": "code",
   "execution_count": 29,
   "id": "5ff1cb04-fa38-4c02-b98c-17e3228e0083",
   "metadata": {},
   "outputs": [
    {
     "name": "stdin",
     "output_type": "stream",
     "text": [
      "Enter the mass (m) in kilograms:  354\n",
      "Enter the specific heat capacity (c) in J/(kg°C):  54\n",
      "Enter the initial temperature (T_initial) in °C:  554\n",
      "Enter the final temperature (T_final) in °C:  5\n"
     ]
    },
    {
     "name": "stdout",
     "output_type": "stream",
     "text": [
      "-10494684.0\n"
     ]
    }
   ],
   "source": [
    "# Qno 20\n",
    "m = float(input(\"Enter the mass (m) in kilograms: \"))\n",
    "c = float(input(\"Enter the specific heat capacity (c) in J/(kg°C): \"))\n",
    "T_initial = float(input(\"Enter the initial temperature (T_initial) in °C: \"))\n",
    "T_final = float(input(\"Enter the final temperature (T_final) in °C: \"))\n",
    "delta_T = T_final - T_initial\n",
    "Q = m * c * delta_T\n",
    "print(Q)"
   ]
  }
 ],
 "metadata": {
  "kernelspec": {
   "display_name": "Python 3 (ipykernel)",
   "language": "python",
   "name": "python3"
  },
  "language_info": {
   "codemirror_mode": {
    "name": "ipython",
    "version": 3
   },
   "file_extension": ".py",
   "mimetype": "text/x-python",
   "name": "python",
   "nbconvert_exporter": "python",
   "pygments_lexer": "ipython3",
   "version": "3.12.7"
  }
 },
 "nbformat": 4,
 "nbformat_minor": 5
}
