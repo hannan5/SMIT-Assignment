{
 "cells": [
  {
   "cell_type": "code",
   "execution_count": 1,
   "id": "84da0e9a-21d4-4cde-ab02-da8fd729a85e",
   "metadata": {},
   "outputs": [
    {
     "name": "stdin",
     "output_type": "stream",
     "text": [
      "Enter a text hello how are you\n"
     ]
    },
    {
     "name": "stdout",
     "output_type": "stream",
     "text": [
      "7\n"
     ]
    }
   ],
   "source": [
    "# Qno 1\n",
    "text = str(input(\"Enter a text\"))\n",
    "vowels = \"aieou\"\n",
    "vowels_count = 0;\n",
    "for alphabets in text:\n",
    "    if alphabets in vowels:\n",
    "        vowels_count +=1\n",
    "\n",
    "print(vowels_count)"
   ]
  },
  {
   "cell_type": "code",
   "execution_count": 28,
   "id": "2396cca7-52e1-4bf8-8270-5829ec5f5101",
   "metadata": {},
   "outputs": [
    {
     "name": "stdin",
     "output_type": "stream",
     "text": [
      "Enter a text hello Hannan 12\n"
     ]
    },
    {
     "name": "stdout",
     "output_type": "stream",
     "text": [
      "Number of uppercase letters: 1\n",
      "Number of lowercase letters: 10\n",
      "Number of digits: 2\n",
      "Number of whitespace characters: 2\n"
     ]
    }
   ],
   "source": [
    "# Qno 2\n",
    "texts = input(\"Enter a text\")\n",
    "uppercase_count = 0\n",
    "lowercase_count = 0\n",
    "digit_count = 0\n",
    "whitespace_count = 0\n",
    "\n",
    "for char in texts:\n",
    "    if char.isupper():\n",
    "        uppercase_count += 1\n",
    "    elif char.islower():\n",
    "        lowercase_count += 1\n",
    "    elif char.isdigit():\n",
    "        digit_count += 1\n",
    "    elif char.isspace():\n",
    "        whitespace_count +=1\n",
    "\n",
    "print(f\"Number of uppercase letters: {uppercase_count}\")\n",
    "print(f\"Number of lowercase letters: {lowercase_count}\")\n",
    "print(f\"Number of digits: {digit_count}\")\n",
    "print(f\"Number of whitespace characters: {whitespace_count}\")\n",
    "        "
   ]
  },
  {
   "cell_type": "code",
   "execution_count": 34,
   "id": "87886f8c-9988-4958-9989-6c233c400d16",
   "metadata": {},
   "outputs": [
    {
     "name": "stdin",
     "output_type": "stream",
     "text": [
      "Enter a text hello\n"
     ]
    },
    {
     "name": "stdout",
     "output_type": "stream",
     "text": [
      "oellh\n"
     ]
    }
   ],
   "source": [
    "# Qno 3\n",
    "string1 = input(\"Enter a text\")\n",
    "\n",
    "if len(string1) > 1:\n",
    "    new_string = string1[-1] + string1[1:-1] + string1[0]\n",
    "else:\n",
    "    new_string = string1\n",
    "print(new_string)"
   ]
  },
  {
   "cell_type": "code",
   "execution_count": 38,
   "id": "931544a6-b248-4d8b-92ed-2cd93c63bb7b",
   "metadata": {},
   "outputs": [
    {
     "name": "stdin",
     "output_type": "stream",
     "text": [
      "Enter a text EXAM\n"
     ]
    },
    {
     "name": "stdout",
     "output_type": "stream",
     "text": [
      "MAXE\n"
     ]
    }
   ],
   "source": [
    "# Qno 4\n",
    "string2 = input(\"Enter a text\")\n",
    "\n",
    "reversed_string = string2[::-1]\n",
    "print(reversed_string)"
   ]
  },
  {
   "cell_type": "code",
   "execution_count": 40,
   "id": "c2750752-24b6-4636-ac59-843229fc2be8",
   "metadata": {},
   "outputs": [
    {
     "name": "stdin",
     "output_type": "stream",
     "text": [
      "Enter a text examination 2021\n"
     ]
    },
    {
     "name": "stdout",
     "output_type": "stream",
     "text": [
      "xamination 2021e\n"
     ]
    }
   ],
   "source": [
    "# Qno 5\n",
    "\n",
    "string3 = input(\"Enter a text\")\n",
    "\n",
    "if len(string3) > 1:\n",
    "    shift_string = string3[1:] + string3[0]\n",
    "else:\n",
    "    shift_string = string3\n",
    "print(shift_string)"
   ]
  },
  {
   "cell_type": "code",
   "execution_count": 72,
   "id": "e22c043b-02ab-4d6d-9795-059124ac5fbf",
   "metadata": {},
   "outputs": [
    {
     "name": "stdin",
     "output_type": "stream",
     "text": [
      "Enter your full name (first, middle, and last):  Abdul Hannan\n"
     ]
    },
    {
     "name": "stdout",
     "output_type": "stream",
     "text": [
      "initials A. H.\n"
     ]
    }
   ],
   "source": [
    "# Qno 6\n",
    "full_name = input(\"Enter your full name (first, middle, and last): \")\n",
    "initials = \"\"\n",
    "for i in range(len(full_name)):\n",
    "    if i == 0 or full_name[i - 1] == ' ':\n",
    "       initials += full_name[i].upper()  + '. '\n",
    "print(\"initials\",initials.strip())\n"
   ]
  },
  {
   "cell_type": "code",
   "execution_count": 74,
   "id": "ee775dc5-13b6-47da-a01b-05f09a957970",
   "metadata": {},
   "outputs": [],
   "source": [
    "\n",
    "# Qno 7"
   ]
  },
  {
   "cell_type": "code",
   "execution_count": 86,
   "id": "d807ee47-0cfe-4d7f-8d0f-092891ac768b",
   "metadata": {},
   "outputs": [
    {
     "name": "stdout",
     "output_type": "stream",
     "text": [
      "SHIFT\n",
      "HIFTS\n",
      "IFTSH\n",
      "FTSHI\n",
      "TSHIF\n"
     ]
    }
   ],
   "source": [
    "# Qno 8\n",
    "word = \"SHIFT\"\n",
    "\n",
    "for a in range(len(word)):\n",
    "    print(word[a:] + word[:a])\n"
   ]
  },
  {
   "cell_type": "code",
   "execution_count": 106,
   "id": "1b0e7219-d9d6-41fa-bd1b-60287e4063c4",
   "metadata": {},
   "outputs": [
    {
     "name": "stdin",
     "output_type": "stream",
     "text": [
      "Enter a password Hannan\n"
     ]
    },
    {
     "name": "stdout",
     "output_type": "stream",
     "text": [
      "The password must be at least eight characters long.\n",
      "Password must contain at least one uppercase letter.\n"
     ]
    }
   ],
   "source": [
    "# Qno 9\n",
    "password = input(\"Enter a password\")\n",
    "has_upper = False\n",
    "has_lower = False\n",
    "has_digit = False\n",
    "if len(password) < 8:\n",
    "    print(\"The password must be at least eight characters long.\")\n",
    "else:\n",
    "    for char in password:\n",
    "        if char.isupper():\n",
    "            has_upper = True\n",
    "        elif char.islower():\n",
    "            has_lower = True\n",
    "        elif char.isdigit():\n",
    "            has_digit = True\n",
    "\n",
    "if not has_upper:\n",
    "    print(\"Password must contain at least one uppercase letter.\")\n",
    "elif not has_lower:\n",
    "    print(\"Password must contain at least one lowercase letter.\")\n",
    "elif not has_digit:\n",
    "    print(\"Password must contain at least one numeric digit.\")\n",
    "else:\n",
    "    print(\"Password is valid!\")"
   ]
  },
  {
   "cell_type": "code",
   "execution_count": null,
   "id": "76d99cab-4e46-4936-9c52-fbf1a26013fa",
   "metadata": {},
   "outputs": [],
   "source": []
  }
 ],
 "metadata": {
  "kernelspec": {
   "display_name": "Python 3 (ipykernel)",
   "language": "python",
   "name": "python3"
  },
  "language_info": {
   "codemirror_mode": {
    "name": "ipython",
    "version": 3
   },
   "file_extension": ".py",
   "mimetype": "text/x-python",
   "name": "python",
   "nbconvert_exporter": "python",
   "pygments_lexer": "ipython3",
   "version": "3.12.7"
  }
 },
 "nbformat": 4,
 "nbformat_minor": 5
}
