{
 "cells": [
  {
   "cell_type": "code",
   "execution_count": 21,
   "id": "88c3e50e-0184-4284-9f42-f32f711345f9",
   "metadata": {},
   "outputs": [
    {
     "name": "stdin",
     "output_type": "stream",
     "text": [
      "Enter a total price 100\n"
     ]
    },
    {
     "name": "stdout",
     "output_type": "stream",
     "text": [
      "80\n"
     ]
    }
   ],
   "source": [
    "# Qno 1\n",
    "\n",
    "totalprice = int(input('Enter a total price'))\n",
    "if totalprice >= 100:\n",
    "    discount_amount = int(totalprice * 0.20);\n",
    "    print(totalprice - discount_amount)\n",
    "else:\n",
    "    print(totalprice)\n",
    "    "
   ]
  },
  {
   "cell_type": "code",
   "execution_count": 31,
   "id": "23b88697-5f86-4131-9f92-452bb8aad9ef",
   "metadata": {},
   "outputs": [
    {
     "name": "stdin",
     "output_type": "stream",
     "text": [
      "Enter a total price 450\n",
      "Enter a total item 4\n"
     ]
    },
    {
     "name": "stdout",
     "output_type": "stream",
     "text": [
      "450\n"
     ]
    }
   ],
   "source": [
    "# Qno 2\n",
    "\n",
    "totalprice = int(input('Enter a total price'))\n",
    "totalitem = int(input('Enter a total item'))\n",
    "if totalitem >= 5:\n",
    "    discount_amount = float(totalprice * 0.15);\n",
    "    print(totalprice - discount_amount)\n",
    "else:\n",
    "    print(totalprice)\n",
    "        "
   ]
  },
  {
   "cell_type": "code",
   "execution_count": 35,
   "id": "f447cafb-4d88-45be-a02f-7ef1c7649ea1",
   "metadata": {},
   "outputs": [
    {
     "name": "stdin",
     "output_type": "stream",
     "text": [
      "Enter a total price 45\n",
      "Is the customer a member? (yes or no):  yes\n"
     ]
    },
    {
     "name": "stdout",
     "output_type": "stream",
     "text": [
      "38.25\n"
     ]
    }
   ],
   "source": [
    "# Qno 3\n",
    "\n",
    "totalprice = int(input('Enter a total price'))\n",
    "is_member = input(\"Is the customer a member? (yes or no): \").strip().lower() == \"yes\"\n",
    "\n",
    "if is_member:\n",
    "    discount_amount = float(totalprice * 0.15);\n",
    "    print(totalprice - discount_amount)\n",
    "else:\n",
    "    print(totalprice)\n",
    "        "
   ]
  },
  {
   "cell_type": "code",
   "execution_count": 6,
   "id": "e3e96897-7632-4b30-af62-033621b0408b",
   "metadata": {},
   "outputs": [
    {
     "name": "stdin",
     "output_type": "stream",
     "text": [
      "Enter a total price 2500\n",
      "Is today a holiday? (yes or no):  no\n"
     ]
    },
    {
     "name": "stdout",
     "output_type": "stream",
     "text": [
      "2250.0\n"
     ]
    }
   ],
   "source": [
    "# Qno 4\n",
    "\n",
    "totalprice = int(input('Enter a total price'))\n",
    "is_holdiay = input(\"Is today a holiday? (yes or no): \").strip().lower() == \"yes\"\n",
    "\n",
    "if is_holdiay:\n",
    "    discount_amount = float(totalprice * 0.25);\n",
    "    print(totalprice - discount_amount)\n",
    "else:\n",
    "    discount_amount = float(totalprice * 0.10);\n",
    "    print(totalprice - discount_amount)\n",
    "        "
   ]
  },
  {
   "cell_type": "code",
   "execution_count": 18,
   "id": "e8cf76d8-3c27-43b4-853f-211c6ae20b68",
   "metadata": {},
   "outputs": [
    {
     "name": "stdin",
     "output_type": "stream",
     "text": [
      "Enter the total amount  150\n",
      "Enter the total number of items purchased:  2\n"
     ]
    },
    {
     "name": "stdout",
     "output_type": "stream",
     "text": [
      "75.0\n"
     ]
    }
   ],
   "source": [
    "# Qno 5\n",
    "\n",
    "totalprice = int(input(\"Enter the total amount \"))\n",
    "\n",
    "count = int(input(\"Enter the total number of items purchased: \"))\n",
    "\n",
    "if count % 2==0:\n",
    "    discount_amount = totalprice/2;\n",
    "    print(discount_amount)\n",
    "else:\n",
    "    print(totalprice)\n",
    "        "
   ]
  },
  {
   "cell_type": "code",
   "execution_count": 52,
   "id": "1072a4af-cf79-419b-a89d-a902e465dcb3",
   "metadata": {},
   "outputs": [
    {
     "name": "stdin",
     "output_type": "stream",
     "text": [
      "Enter the total amount  600\n"
     ]
    },
    {
     "name": "stdout",
     "output_type": "stream",
     "text": [
      "\n",
      "The total price after tax is: $690.00\n",
      "690.0\n"
     ]
    }
   ],
   "source": [
    "# Qno 6\n",
    "price = int(input(\"Enter the total amount \"))\n",
    "tax_rate = 0.15 if price > 500 else 0.08\n",
    "total_price = price * (1 + tax_rate)\n",
    "print(f\"\\nThe total price after tax is: ${total_price:.2f}\")\n",
    "print(total_price)\n"
   ]
  },
  {
   "cell_type": "code",
   "execution_count": 64,
   "id": "eb4074af-5ac2-4ea3-9959-149721f3ed51",
   "metadata": {},
   "outputs": [
    {
     "name": "stdin",
     "output_type": "stream",
     "text": [
      "Enter the total amount  90000\n"
     ]
    },
    {
     "name": "stdout",
     "output_type": "stream",
     "text": [
      "18000.0\n"
     ]
    }
   ],
   "source": [
    "# Qno 7\n",
    "totalprice = int(input(\"Enter the total amount \"))\n",
    "if totalprice > 50000:\n",
    "    tax = float(totalprice * 0.20)\n",
    "    print(tax)\n",
    "else:\n",
    "    tax = float(totalprice * 0.10)\n",
    "    print(tax)"
   ]
  },
  {
   "cell_type": "code",
   "execution_count": 38,
   "id": "ff2a3dde-94de-40b1-b680-9b50665ccb80",
   "metadata": {},
   "outputs": [
    {
     "name": "stdin",
     "output_type": "stream",
     "text": [
      "Enter the income  45000\n"
     ]
    },
    {
     "name": "stdout",
     "output_type": "stream",
     "text": [
      "Medium Tax\n"
     ]
    }
   ],
   "source": [
    "# Qno 8\n",
    "income = int(input(\"Enter the income \"))\n",
    "if income < 30000:\n",
    "    print('Low Tax')\n",
    "elif income > 30000 or income < 100000:\n",
    "    print(\"Medium Tax\")\n",
    "else:\n",
    "    print(\"High Tax\")"
   ]
  },
  {
   "cell_type": "code",
   "execution_count": 48,
   "id": "f385529f-47e8-41fb-a036-49b0551784c5",
   "metadata": {},
   "outputs": [
    {
     "name": "stdin",
     "output_type": "stream",
     "text": [
      "Enter the purchase amount  1200\n",
      "Is the item is essential? (yes or no):  yes\n"
     ]
    },
    {
     "name": "stdout",
     "output_type": "stream",
     "text": [
      "600.0\n"
     ]
    }
   ],
   "source": [
    "# Qno 9\n",
    "purchase_amount = int(input(\"Enter the purchase amount \"))\n",
    "is_essential = input(\"Is the item is essential? (yes or no): \").strip().lower() == \"yes\"\n",
    "if is_essential:\n",
    "    print(float(purchase_amount * 0.5))\n",
    "else:\n",
    "    print(float(purchase_amount * 0.12))"
   ]
  },
  {
   "cell_type": "code",
   "execution_count": 72,
   "id": "0ad14c2c-191e-49d1-920f-07804797d4a8",
   "metadata": {},
   "outputs": [
    {
     "name": "stdin",
     "output_type": "stream",
     "text": [
      "Enter the purchase amount  500\n",
      "Is the tax free day? (yes or no):  no\n"
     ]
    },
    {
     "name": "stdout",
     "output_type": "stream",
     "text": [
      "535.0\n"
     ]
    }
   ],
   "source": [
    "# Qno 10\n",
    "purchase_amount = int(input(\"Enter the purchase amount \"))\n",
    "tax_free = input(\"Is the tax free day? (yes or no): \").strip().lower() == \"yes\"\n",
    "if tax_free:\n",
    "    print(purchase_amount)\n",
    "else:\n",
    "    print(purchase_amount + (purchase_amount * 0.07))"
   ]
  },
  {
   "cell_type": "code",
   "execution_count": 76,
   "id": "e7eeecd1-7830-4c83-b81f-3f6eefabfd47",
   "metadata": {},
   "outputs": [
    {
     "name": "stdin",
     "output_type": "stream",
     "text": [
      "Enter the purchase amount  100\n"
     ]
    },
    {
     "name": "stdout",
     "output_type": "stream",
     "text": [
      "150\n"
     ]
    }
   ],
   "source": [
    "# Qno 11\n",
    "purchase_amount = int(input(\"Enter the purchase amount \"))\n",
    "if purchase_amount > 50:\n",
    "    print(purchase_amount + 50)\n",
    "else:\n",
    "    print(purchase_amount)"
   ]
  },
  {
   "cell_type": "code",
   "execution_count": null,
   "id": "b515098a-ef4c-4986-8925-36f3eaed139f",
   "metadata": {},
   "outputs": [],
   "source": [
    "# Qno 12\n",
    "purchase_amount = int(input(\"Enter the purchase amount \"))\n",
    "is_loyal = input(\"Is the customer a loyal member? (yes or no): \").strip().lower() == \"yes\"\n",
    "if is_loyal:\n",
    "    print(purchase_amount * 2)\n",
    "else:\n",
    "    print(purchase_amount)"
   ]
  },
  {
   "cell_type": "code",
   "execution_count": null,
   "id": "272fcbab-fa7f-4c95-aa55-4d608642b642",
   "metadata": {},
   "outputs": [],
   "source": []
  },
  {
   "cell_type": "code",
   "execution_count": 42,
   "id": "237bdf6b-c30b-4055-90d0-6534ff19bf02",
   "metadata": {},
   "outputs": [
    {
     "name": "stdin",
     "output_type": "stream",
     "text": [
      "Enter the total amount  21\n"
     ]
    },
    {
     "name": "stdout",
     "output_type": "stream",
     "text": [
      "21\n"
     ]
    }
   ],
   "source": [
    "# Qno 14\n",
    "totalprice = int(input(\"Enter the total amount \"))\n",
    "if totalprice < 20:\n",
    "    print(\"Minimun purchase of $20 is required\")\n",
    "else:\n",
    "    print(totalprice)"
   ]
  },
  {
   "cell_type": "code",
   "execution_count": 46,
   "id": "b9df62db-1fd4-4702-bacb-ceab0db43690",
   "metadata": {},
   "outputs": [
    {
     "name": "stdin",
     "output_type": "stream",
     "text": [
      "Enter the purchase amount  50\n",
      "Is the customer a loyal member? (yes or no):  no\n"
     ]
    },
    {
     "name": "stdout",
     "output_type": "stream",
     "text": [
      "50\n"
     ]
    }
   ],
   "source": [
    "# Qno 15\n",
    "purchase_amount = int(input(\"Enter the purchase amount \"))\n",
    "is_loyal = input(\"Is the customer a loyal member? (yes or no): \").strip().lower() == \"yes\"\n",
    "if is_loyal:\n",
    "    print(purchase_amount * 2)\n",
    "else:\n",
    "    print(purchase_amount)"
   ]
  }
 ],
 "metadata": {
  "kernelspec": {
   "display_name": "Python 3 (ipykernel)",
   "language": "python",
   "name": "python3"
  },
  "language_info": {
   "codemirror_mode": {
    "name": "ipython",
    "version": 3
   },
   "file_extension": ".py",
   "mimetype": "text/x-python",
   "name": "python",
   "nbconvert_exporter": "python",
   "pygments_lexer": "ipython3",
   "version": "3.12.7"
  }
 },
 "nbformat": 4,
 "nbformat_minor": 5
}
